{
 "cells": [
  {
   "cell_type": "code",
   "execution_count": 66,
   "metadata": {},
   "outputs": [
    {
     "data": {
      "text/plain": [
       "['Number of employees: 4',\n",
       " 'Goodies and Prices:',\n",
       " 'Fitbit Plus: 7980',\n",
       " 'IPods: 22349',\n",
       " 'MI Band: 999',\n",
       " 'Cult Pass: 2799',\n",
       " 'Macbook Pro: 229900',\n",
       " 'Digital Camera: 11101',\n",
       " 'Alexa: 9999',\n",
       " 'Sandwich Toaster: 2195',\n",
       " 'Microwave Oven: 9800',\n",
       " 'Scale: 4999']"
      ]
     },
     "execution_count": 66,
     "metadata": {},
     "output_type": "execute_result"
    }
   ],
   "source": [
    "d=[]\n",
    "with open('sample_input.txt','r') as f:\n",
    "    for line in f:\n",
    "        if not line.strip():\n",
    "            continue\n",
    "        else:\n",
    "            d.append(line.strip())\n",
    "d"
   ]
  },
  {
   "cell_type": "code",
   "execution_count": 67,
   "metadata": {},
   "outputs": [],
   "source": [
    "k=int(d[0].split(': ')[1])"
   ]
  },
  {
   "cell_type": "code",
   "execution_count": 68,
   "metadata": {},
   "outputs": [
    {
     "data": {
      "text/plain": [
       "4"
      ]
     },
     "execution_count": 68,
     "metadata": {},
     "output_type": "execute_result"
    }
   ],
   "source": [
    "k"
   ]
  },
  {
   "cell_type": "code",
   "execution_count": 69,
   "metadata": {},
   "outputs": [
    {
     "data": {
      "text/plain": [
       "{'Fitbit Plus': 7980,\n",
       " 'IPods': 22349,\n",
       " 'MI Band': 999,\n",
       " 'Cult Pass': 2799,\n",
       " 'Macbook Pro': 229900,\n",
       " 'Digital Camera': 11101,\n",
       " 'Alexa': 9999,\n",
       " 'Sandwich Toaster': 2195,\n",
       " 'Microwave Oven': 9800,\n",
       " 'Scale': 4999}"
      ]
     },
     "execution_count": 69,
     "metadata": {},
     "output_type": "execute_result"
    }
   ],
   "source": [
    "goodies={}\n",
    "prices=[]\n",
    "for i in d[2:]:\n",
    "    name,price=i.split(': ')\n",
    "    prices.append(int(price))\n",
    "    goodies[name]=int(price)\n",
    "    \n",
    "goodies  "
   ]
  },
  {
   "cell_type": "code",
   "execution_count": 70,
   "metadata": {},
   "outputs": [],
   "source": [
    "# prices"
   ]
  },
  {
   "cell_type": "code",
   "execution_count": 71,
   "metadata": {},
   "outputs": [],
   "source": [
    "def minimumDiff(prices,n,k): \n",
    "    result = +345678923\n",
    "    for i in range(len(prices)):\n",
    "        min_index = i\n",
    "        for j in range(i+1, len(prices)):\n",
    "            if prices[min_index] > prices[j]:\n",
    "                min_index = j\n",
    "        prices[i], prices[min_index] = prices[min_index], prices[i] \n",
    "\n",
    "    \n",
    "    \n",
    "    for i in range(n-k+1):\n",
    "        if result>prices[i+k-1] - prices[i]:\n",
    "            p=i\n",
    "            q=i+k-1\n",
    "            result=prices[i+k-1] - prices[i]\n",
    "            \n",
    "    sub_arr=prices[p:q+1]\n",
    "    return result,sub_arr\n",
    "  \n",
    "res,sub_arr=minimumDiff(prices,len(prices), k)\n",
    "# print(res)\n",
    "# print(sub_arr)"
   ]
  },
  {
   "cell_type": "code",
   "execution_count": null,
   "metadata": {},
   "outputs": [],
   "source": []
  },
  {
   "cell_type": "code",
   "execution_count": null,
   "metadata": {},
   "outputs": [],
   "source": []
  },
  {
   "cell_type": "code",
   "execution_count": 72,
   "metadata": {},
   "outputs": [
    {
     "name": "stdout",
     "output_type": "stream",
     "text": [
      "The goodies selected for distribution are:\n",
      "\n",
      "Fitbit Plus: 7980\n",
      "Microwave Oven: 9800\n",
      "Alexa: 9999\n",
      "Digital Camera: 11101\n",
      "\n",
      "And the difference between the chosen goodie with highest price and the lowest price is 3121\n"
     ]
    }
   ],
   "source": [
    "result_dict = {}\n",
    "print(\"The goodies selected for distribution are:\")\n",
    "print()\n",
    "for i in sub_arr:\n",
    "    for k in goodies.keys():\n",
    "        if goodies[k] == i:\n",
    "            result_dict[k] = i\n",
    "            print(k+\":\",i)\n",
    "            \n",
    "print()\n",
    "print(\"And the difference between the chosen goodie with highest price and the lowest price is\",res)"
   ]
  },
  {
   "cell_type": "code",
   "execution_count": null,
   "metadata": {},
   "outputs": [],
   "source": []
  }
 ],
 "metadata": {
  "kernelspec": {
   "display_name": "Python 3",
   "language": "python",
   "name": "python3"
  },
  "language_info": {
   "codemirror_mode": {
    "name": "ipython",
    "version": 3
   },
   "file_extension": ".py",
   "mimetype": "text/x-python",
   "name": "python",
   "nbconvert_exporter": "python",
   "pygments_lexer": "ipython3",
   "version": "3.7.3"
  }
 },
 "nbformat": 4,
 "nbformat_minor": 2
}
